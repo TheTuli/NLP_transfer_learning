{
 "cells": [
  {
   "cell_type": "markdown",
   "metadata": {},
   "source": [
    "**Simple Transfer Learning Example** (Movie review into +ve/-ve)"
   ]
  },
  {
   "cell_type": "code",
   "execution_count": 1,
   "metadata": {},
   "outputs": [],
   "source": [
    "# # Uncomment following and run once if dependencies not installed\n",
    "\n",
    "# !pip install tensorflow\n",
    "# !pip install tensorflow_hub\n",
    "# !pip install tensorflow_datasets\n",
    "# !pip install matplotlib\n"
   ]
  },
  {
   "cell_type": "code",
   "execution_count": 2,
   "metadata": {},
   "outputs": [],
   "source": [
    "import tensorflow as tf\n",
    "import tensorflow_hub as hub\n",
    "import tensorflow_datasets as tfds"
   ]
  },
  {
   "cell_type": "markdown",
   "metadata": {},
   "source": [
    "Load [the Internet Movie DataBase (IMDB) reviews data set.](https://colab.research.google.com/github/tensorflow/hub/blob/master/examples/colab/tf2_text_classification.ipynb#scrollTo=2ew7HTbPpCJH)."
   ]
  },
  {
   "cell_type": "code",
   "execution_count": 3,
   "metadata": {},
   "outputs": [],
   "source": [
    "train_data, test_data = tfds.load(name=\"imdb_reviews\", \n",
    "                                  split=[\"train\", \"test\"], \n",
    "                                  batch_size=-1, as_supervised=True)\n",
    "\n",
    "train_examples, train_labels = tfds.as_numpy(train_data)\n",
    "test_examples, test_labels = tfds.as_numpy(test_data)"
   ]
  },
  {
   "cell_type": "markdown",
   "metadata": {},
   "source": [
    "Load a pretrained embedding mode: [gnews-swivel-20dim](https://tfhub.dev/google/tf2-preview/gnews-swivel-20dim/1)."
   ]
  },
  {
   "cell_type": "code",
   "execution_count": 4,
   "metadata": {},
   "outputs": [],
   "source": [
    "model = \"https://tfhub.dev/google/tf2-preview/gnews-swivel-20dim/1\"\n",
    "hub_layer = hub.KerasLayer(model, output_shape=[20], input_shape=[], \n",
    "                           dtype=tf.string, trainable=True)"
   ]
  },
  {
   "cell_type": "markdown",
   "metadata": {},
   "source": [
    "Sanity Check"
   ]
  },
  {
   "cell_type": "code",
   "execution_count": 5,
   "metadata": {},
   "outputs": [
    {
     "data": {
      "text/plain": [
       "array([b\"This was an absolutely terrible movie. Don't be lured in by Christopher Walken or Michael Ironside. Both are great actors, but this must simply be their worst role in history. Even their great acting could not redeem this movie's ridiculous storyline. This movie is an early nineties US propaganda piece. The most pathetic scenes were those when the Columbian rebels were making their cases for revolutions. Maria Conchita Alonso appeared phony, and her pseudo-love affair with Walken was nothing but a pathetic emotional plug in a movie that was devoid of any real meaning. I am disappointed that there are movies like this, ruining actor's like Christopher Walken's good name. I could barely sit through it.\",\n",
       "       b'I have been known to fall asleep during films, but this is usually due to a combination of things including, really tired, being warm and comfortable on the sette and having just eaten a lot. However on this occasion I fell asleep because the film was rubbish. The plot development was constant. Constantly slow and boring. Things seemed to happen, but with no explanation of what was causing them or why. I admit, I may have missed part of the film, but i watched the majority of it and everything just seemed to happen of its own accord without any real concern for anything else. I cant recommend this film at all.',\n",
       "       b'Mann photographs the Alberta Rocky Mountains in a superb fashion, and Jimmy Stewart and Walter Brennan give enjoyable performances as they always seem to do. <br /><br />But come on Hollywood - a Mountie telling the people of Dawson City, Yukon to elect themselves a marshal (yes a marshal!) and to enforce the law themselves, then gunfighters battling it out on the streets for control of the town? <br /><br />Nothing even remotely resembling that happened on the Canadian side of the border during the Klondike gold rush. Mr. Mann and company appear to have mistaken Dawson City for Deadwood, the Canadian North for the American Wild West.<br /><br />Canadian viewers be prepared for a Reefer Madness type of enjoyable howl with this ludicrous plot, or, to shake your head in disgust.',\n",
       "       b'This is the kind of film for a snowy Sunday afternoon when the rest of the world can go ahead with its own business as you descend into a big arm-chair and mellow for a couple of hours. Wonderful performances from Cher and Nicolas Cage (as always) gently row the plot along. There are no rapids to cross, no dangerous waters, just a warm and witty paddle through New York life at its best. A family film in every sense and one that deserves the praise it received.',\n",
       "       b'As others have mentioned, all the women that go nude in this film are mostly absolutely gorgeous. The plot very ably shows the hypocrisy of the female libido. When men are around they want to be pursued, but when no \"men\" are around, they become the pursuers of a 14 year old boy. And the boy becomes a man really fast (we should all be so lucky at this age!). He then gets up the courage to pursue his true love.',\n",
       "       b\"This is a film which should be seen by anybody interested in, effected by, or suffering from an eating disorder. It is an amazingly accurate and sensitive portrayal of bulimia in a teenage girl, its causes and its symptoms. The girl is played by one of the most brilliant young actresses working in cinema today, Alison Lohman, who was later so spectacular in 'Where the Truth Lies'. I would recommend that this film be shown in all schools, as you will never see a better on this subject. Alison Lohman is absolutely outstanding, and one marvels at her ability to convey the anguish of a girl suffering from this compulsive disorder. If barometers tell us the air pressure, Alison Lohman tells us the emotional pressure with the same degree of accuracy. Her emotional range is so precise, each scene could be measured microscopically for its gradations of trauma, on a scale of rising hysteria and desperation which reaches unbearable intensity. Mare Winningham is the perfect choice to play her mother, and does so with immense sympathy and a range of emotions just as finely tuned as Lohman's. Together, they make a pair of sensitive emotional oscillators vibrating in resonance with one another. This film is really an astonishing achievement, and director Katt Shea should be proud of it. The only reason for not seeing it is if you are not interested in people. But even if you like nature films best, this is after all animal behaviour at the sharp edge. Bulimia is an extreme version of how a tormented soul can destroy her own body in a frenzy of despair. And if we don't sympathise with people suffering from the depths of despair, then we are dead inside.\",\n",
       "       b'Okay, you have:<br /><br />Penelope Keith as Miss Herringbone-Tweed, B.B.E. (Backbone of England.) She\\'s killed off in the first scene - that\\'s right, folks; this show has no backbone!<br /><br />Peter O\\'Toole as Ol\\' Colonel Cricket from The First War and now the emblazered Lord of the Manor.<br /><br />Joanna Lumley as the ensweatered Lady of the Manor, 20 years younger than the colonel and 20 years past her own prime but still glamourous (Brit spelling, not mine) enough to have a toy-boy on the side. It\\'s alright, they have Col. Cricket\\'s full knowledge and consent (they guy even comes \\'round for Christmas!) Still, she\\'s considerate of the colonel enough to have said toy-boy her own age (what a gal!)<br /><br />David McCallum as said toy-boy, equally as pointlessly glamourous as his squeeze. Pilcher couldn\\'t come up with any cover for him within the story, so she gave him a hush-hush job at the Circus.<br /><br />and finally:<br /><br />Susan Hampshire as Miss Polonia Teacups, Venerable Headmistress of the Venerable Girls\\' Boarding-School, serving tea in her office with a dash of deep, poignant advice for life in the outside world just before graduation. Her best bit of advice: \"I\\'ve only been to Nancherrow (the local Stately Home of England) once. I thought it was very beautiful but, somehow, not part of the real world.\" Well, we can\\'t say they didn\\'t warn us.<br /><br />Ah, Susan - time was, your character would have been running the whole show. They don\\'t write \\'em like that any more. Our loss, not yours.<br /><br />So - with a cast and setting like this, you have the re-makings of \"Brideshead Revisited,\" right?<br /><br />Wrong! They took these 1-dimensional supporting roles because they paid so well. After all, acting is one of the oldest temp-jobs there is (YOU name another!)<br /><br />First warning sign: lots and lots of backlighting. They get around it by shooting outdoors - \"hey, it\\'s just the sunlight!\"<br /><br />Second warning sign: Leading Lady cries a lot. When not crying, her eyes are moist. That\\'s the law of romance novels: Leading Lady is \"dewy-eyed.\"<br /><br />Henceforth, Leading Lady shall be known as L.L.<br /><br />Third warning sign: L.L. actually has stars in her eyes when she\\'s in love. Still, I\\'ll give Emily Mortimer an award just for having to act with that spotlight in her eyes (I wonder . did they use contacts?)<br /><br />And lastly, fourth warning sign: no on-screen female character is \"Mrs.\" She\\'s either \"Miss\" or \"Lady.\"<br /><br />When all was said and done, I still couldn\\'t tell you who was pursuing whom and why. I couldn\\'t even tell you what was said and done.<br /><br />To sum up: they all live through World War II without anything happening to them at all.<br /><br />OK, at the end, L.L. finds she\\'s lost her parents to the Japanese prison camps and baby sis comes home catatonic. Meanwhile (there\\'s always a \"meanwhile,\") some young guy L.L. had a crush on (when, I don\\'t know) comes home from some wartime tough spot and is found living on the street by Lady of the Manor (must be some street if SHE\\'s going to find him there.) Both war casualties are whisked away to recover at Nancherrow (SOMEBODY has to be \"whisked away\" SOMEWHERE in these romance stories!)<br /><br />Great drama.',\n",
       "       b'The film is based on a genuine 1950s novel.<br /><br />Journalist Colin McInnes wrote a set of three \"London novels\": \"Absolute Beginners\", \"City of Spades\" and \"Mr Love and Justice\". I have read all three. The first two are excellent. The last, perhaps an experiment that did not come off. But McInnes\\'s work is highly acclaimed; and rightly so. This musical is the novelist\\'s ultimate nightmare - to see the fruits of one\\'s mind being turned into a glitzy, badly-acted, soporific one-dimensional apology of a film that says it captures the spirit of 1950s London, and does nothing of the sort.<br /><br />Thank goodness Colin McInnes wasn\\'t alive to witness it.',\n",
       "       b'I really love the sexy action and sci-fi films of the sixties and its because of the actress\\'s that appeared in them. They found the sexiest women to be in these films and it didn\\'t matter if they could act (Remember \"Candy\"?). The reason I was disappointed by this film was because it wasn\\'t nostalgic enough. The story here has a European sci-fi film called \"Dragonfly\" being made and the director is fired. So the producers decide to let a young aspiring filmmaker (Jeremy Davies) to complete the picture. They\\'re is one real beautiful woman in the film who plays Dragonfly but she\\'s barely in it. Film is written and directed by Roman Coppola who uses some of his fathers exploits from his early days and puts it into the script. I wish the film could have been an homage to those early films. They could have lots of cameos by actors who appeared in them. There is one actor in this film who was popular from the sixties and its John Phillip Law (Barbarella). Gerard Depardieu, Giancarlo Giannini and Dean Stockwell appear as well. I guess I\\'m going to have to continue waiting for a director to make a good homage to the films of the sixties. If any are reading this, \"Make it as sexy as you can\"! I\\'ll be waiting!',\n",
       "       b'Sure, this one isn\\'t really a blockbuster, nor does it target such a position. \"Dieter\" is the first name of a quite popular German musician, who is either loved or hated for his kind of acting and thats exactly what this movie is about. It is based on the autobiography \"Dieter Bohlen\" wrote a few years ago but isn\\'t meant to be accurate on that. The movie is filled with some sexual offensive content (at least for American standard) which is either amusing (not for the other \"actors\" of course) or dumb - it depends on your individual kind of humor or on you being a \"Bohlen\"-Fan or not. Technically speaking there isn\\'t much to criticize. Speaking of me I find this movie to be an OK-movie.'],\n",
       "      dtype=object)"
      ]
     },
     "execution_count": 5,
     "metadata": {},
     "output_type": "execute_result"
    }
   ],
   "source": [
    "train_examples[:10]"
   ]
  },
  {
   "cell_type": "markdown",
   "metadata": {},
   "source": [
    "The embedding layer can convert each to 20-number vectors."
   ]
  },
  {
   "cell_type": "code",
   "execution_count": 6,
   "metadata": {},
   "outputs": [
    {
     "data": {
      "text/plain": [
       "<tf.Tensor: shape=(10, 20), dtype=float32, numpy=\n",
       "array([[ 1.765786  , -3.882232  ,  3.9134233 , -1.5557289 , -3.3362343 ,\n",
       "        -1.7357955 , -1.9954445 ,  1.2989551 ,  5.081598  , -1.1041286 ,\n",
       "        -2.0503852 , -0.72675157, -0.65675956,  0.24436149, -3.7208383 ,\n",
       "         2.0954835 ,  2.2969332 , -2.0689783 , -2.9489717 , -1.1315987 ],\n",
       "       [ 1.8804485 , -2.5852382 ,  3.4066997 ,  1.0982676 , -4.056685  ,\n",
       "        -4.891284  , -2.785554  ,  1.3874227 ,  3.8476458 , -0.9256538 ,\n",
       "        -1.896706  ,  1.2113281 ,  0.11474707,  0.76209456, -4.8791065 ,\n",
       "         2.906149  ,  4.7087674 , -2.3652055 , -3.5015898 , -1.6390051 ],\n",
       "       [ 0.71152234, -0.6353217 ,  1.7385626 , -1.1168286 , -0.5451594 ,\n",
       "        -1.1808156 ,  0.09504455,  1.4653089 ,  0.66059524,  0.79308075,\n",
       "        -2.2268345 ,  0.07446612, -1.4075904 , -0.70645386, -1.907037  ,\n",
       "         1.4419787 ,  1.9551861 , -0.42660055, -2.8022065 ,  0.43727064],\n",
       "       [ 1.5165    , -0.71034056,  1.8556767 , -1.2033532 , -1.3105817 ,\n",
       "        -0.8829813 , -1.1187646 ,  0.5318602 ,  1.0793796 , -1.704331  ,\n",
       "        -2.419896  ,  1.3787876 , -1.5979576 , -0.8075193 , -2.770235  ,\n",
       "         1.4840026 ,  2.2181196 , -1.1752981 , -3.653832  , -0.43227202],\n",
       "       [ 2.2775352 , -2.859779  ,  1.5962925 , -1.229557  , -2.915857  ,\n",
       "        -3.408698  , -1.6590053 ,  0.90293777,  2.820842  ,  0.34331927,\n",
       "        -1.2213763 ,  0.8157163 , -1.3391474 ,  0.24255586, -5.0900426 ,\n",
       "         2.0221164 ,  2.7441626 , -2.8562224 , -3.235116  , -0.24184115],\n",
       "       [ 4.8275094 , -3.5552435 ,  5.1496925 , -0.95615286, -2.2722518 ,\n",
       "        -4.4889107 , -2.8821247 ,  2.2267299 ,  5.036254  , -3.1937487 ,\n",
       "        -1.4377005 ,  1.6979549 , -1.0886794 ,  0.15857595, -5.7965794 ,\n",
       "         1.6976607 ,  4.9371166 , -3.3217516 , -4.186129  , -2.942015  ],\n",
       "       [ 1.9706978 , -6.42301   ,  3.671509  , -1.6114285 , -5.5421867 ,\n",
       "        -3.4934916 , -4.164454  ,  3.0136137 ,  5.750012  ,  1.9196323 ,\n",
       "        -5.8481936 ,  1.0156199 , -0.9362391 , -0.55697083, -6.4590654 ,\n",
       "         2.5674524 ,  5.0141754 , -3.6144674 , -4.8704095 , -1.0617871 ],\n",
       "       [ 1.3299003 , -2.787643  ,  3.314101  , -1.744606  , -2.4309056 ,\n",
       "        -0.6980196 , -1.0822945 ,  0.34282815,  4.099     , -1.4130726 ,\n",
       "        -1.7492213 , -0.5709748 , -1.4267993 , -0.6318285 , -1.7648232 ,\n",
       "         0.6495864 ,  0.9851945 , -0.7138082 , -2.4303274 , -0.6609144 ],\n",
       "       [ 2.340374  , -5.0925856 ,  3.8527236 , -1.4078196 , -4.984346  ,\n",
       "        -1.8527982 , -2.1502845 ,  1.3673384 ,  5.533428  ,  0.46687686,\n",
       "        -2.8792222 , -0.7796415 , -2.4075115 ,  0.14679658, -4.423313  ,\n",
       "         1.7680737 ,  3.6817148 , -2.0862124 , -2.869308  , -0.814161  ],\n",
       "       [ 1.5410991 , -3.7195308 ,  4.7451897 ,  0.18365428, -3.9900403 ,\n",
       "        -3.2519536 , -1.5548034 , -0.12665041,  3.8872805 , -1.7260294 ,\n",
       "        -1.8965487 ,  0.3166539 , -1.1875526 ,  0.5259753 , -3.0725298 ,\n",
       "         0.2675115 ,  3.2922435 , -1.5127255 , -3.0317924 , -2.0460427 ]],\n",
       "      dtype=float32)>"
      ]
     },
     "execution_count": 6,
     "metadata": {},
     "output_type": "execute_result"
    }
   ],
   "source": [
    "hub_layer(train_examples[:10])"
   ]
  },
  {
   "cell_type": "markdown",
   "metadata": {},
   "source": [
    "Add additional layers(if needed) and an output Neuron to classify the movie reviews as either positive or negative."
   ]
  },
  {
   "cell_type": "code",
   "execution_count": 7,
   "metadata": {},
   "outputs": [
    {
     "name": "stdout",
     "output_type": "stream",
     "text": [
      "Model: \"sequential\"\n",
      "_________________________________________________________________\n",
      "Layer (type)                 Output Shape              Param #   \n",
      "=================================================================\n",
      "keras_layer (KerasLayer)     (None, 20)                400020    \n",
      "_________________________________________________________________\n",
      "dense (Dense)                (None, 16)                336       \n",
      "_________________________________________________________________\n",
      "dense_1 (Dense)              (None, 1)                 17        \n",
      "=================================================================\n",
      "Total params: 400,373\n",
      "Trainable params: 400,373\n",
      "Non-trainable params: 0\n",
      "_________________________________________________________________\n"
     ]
    }
   ],
   "source": [
    "model = tf.keras.Sequential()\n",
    "model.add(hub_layer)\n",
    "model.add(tf.keras.layers.Dense(16, activation='relu'))\n",
    "model.add(tf.keras.layers.Dense(1, activation='sigmoid'))\n",
    "\n",
    "model.summary()"
   ]
  },
  {
   "cell_type": "markdown",
   "metadata": {},
   "source": [
    "Compile the neural network. (Specify optimizer, loss function and metrics)"
   ]
  },
  {
   "cell_type": "code",
   "execution_count": 8,
   "metadata": {},
   "outputs": [],
   "source": [
    "model.compile(optimizer='adam',\n",
    "              loss='binary_crossentropy',\n",
    "              metrics=['accuracy'])"
   ]
  },
  {
   "cell_type": "markdown",
   "metadata": {},
   "source": [
    "train the neural network."
   ]
  },
  {
   "cell_type": "code",
   "execution_count": 9,
   "metadata": {},
   "outputs": [],
   "source": [
    "x_val = train_examples[:10000]\n",
    "partial_x_train = train_examples[10000:]\n",
    "\n",
    "y_val = train_labels[:10000]\n",
    "partial_y_train = train_labels[10000:]"
   ]
  },
  {
   "cell_type": "code",
   "execution_count": 10,
   "metadata": {},
   "outputs": [
    {
     "name": "stdout",
     "output_type": "stream",
     "text": [
      "Epoch 1/30\n",
      "30/30 [==============================] - 2s 42ms/step - loss: 1.0181 - accuracy: 0.5156 - val_loss: 0.7185 - val_accuracy: 0.5487\n",
      "Epoch 2/30\n",
      "30/30 [==============================] - 1s 33ms/step - loss: 0.6978 - accuracy: 0.5649 - val_loss: 0.6445 - val_accuracy: 0.6382\n",
      "Epoch 3/30\n",
      "30/30 [==============================] - 1s 34ms/step - loss: 0.6262 - accuracy: 0.6599 - val_loss: 0.6084 - val_accuracy: 0.6756\n",
      "Epoch 4/30\n",
      "30/30 [==============================] - 1s 32ms/step - loss: 0.5916 - accuracy: 0.6846 - val_loss: 0.5767 - val_accuracy: 0.7027\n",
      "Epoch 5/30\n",
      "30/30 [==============================] - 1s 33ms/step - loss: 0.5481 - accuracy: 0.7252 - val_loss: 0.5450 - val_accuracy: 0.7293\n",
      "Epoch 6/30\n",
      "30/30 [==============================] - 1s 31ms/step - loss: 0.5143 - accuracy: 0.7566 - val_loss: 0.5135 - val_accuracy: 0.7543\n",
      "Epoch 7/30\n",
      "30/30 [==============================] - 1s 34ms/step - loss: 0.4796 - accuracy: 0.7780 - val_loss: 0.4850 - val_accuracy: 0.7759\n",
      "Epoch 8/30\n",
      "30/30 [==============================] - 1s 33ms/step - loss: 0.4504 - accuracy: 0.7985 - val_loss: 0.4591 - val_accuracy: 0.7925\n",
      "Epoch 9/30\n",
      "30/30 [==============================] - 1s 36ms/step - loss: 0.4156 - accuracy: 0.8180 - val_loss: 0.4341 - val_accuracy: 0.8094\n",
      "Epoch 10/30\n",
      "30/30 [==============================] - 1s 33ms/step - loss: 0.3871 - accuracy: 0.8368 - val_loss: 0.4119 - val_accuracy: 0.8221\n",
      "Epoch 11/30\n",
      "30/30 [==============================] - 1s 34ms/step - loss: 0.3539 - accuracy: 0.8548 - val_loss: 0.3927 - val_accuracy: 0.8313\n",
      "Epoch 12/30\n",
      "30/30 [==============================] - 1s 32ms/step - loss: 0.3342 - accuracy: 0.8620 - val_loss: 0.3758 - val_accuracy: 0.8414\n",
      "Epoch 13/30\n",
      "30/30 [==============================] - 1s 33ms/step - loss: 0.3082 - accuracy: 0.8769 - val_loss: 0.3599 - val_accuracy: 0.8477\n",
      "Epoch 14/30\n",
      "30/30 [==============================] - 1s 33ms/step - loss: 0.2802 - accuracy: 0.8913 - val_loss: 0.3494 - val_accuracy: 0.8530\n",
      "Epoch 15/30\n",
      "30/30 [==============================] - 1s 34ms/step - loss: 0.2678 - accuracy: 0.8938 - val_loss: 0.3378 - val_accuracy: 0.8587\n",
      "Epoch 16/30\n",
      "30/30 [==============================] - 1s 31ms/step - loss: 0.2400 - accuracy: 0.9081 - val_loss: 0.3299 - val_accuracy: 0.8627\n",
      "Epoch 17/30\n",
      "30/30 [==============================] - 1s 32ms/step - loss: 0.2220 - accuracy: 0.9185 - val_loss: 0.3236 - val_accuracy: 0.8667\n",
      "Epoch 18/30\n",
      "30/30 [==============================] - 1s 32ms/step - loss: 0.2125 - accuracy: 0.9191 - val_loss: 0.3196 - val_accuracy: 0.8683\n",
      "Epoch 19/30\n",
      "30/30 [==============================] - 1s 33ms/step - loss: 0.1976 - accuracy: 0.9248 - val_loss: 0.3187 - val_accuracy: 0.8677\n",
      "Epoch 20/30\n",
      "30/30 [==============================] - 1s 33ms/step - loss: 0.1887 - accuracy: 0.9292 - val_loss: 0.3138 - val_accuracy: 0.8723\n",
      "Epoch 21/30\n",
      "30/30 [==============================] - 1s 32ms/step - loss: 0.1705 - accuracy: 0.9388 - val_loss: 0.3148 - val_accuracy: 0.8729\n",
      "Epoch 22/30\n",
      "30/30 [==============================] - 1s 32ms/step - loss: 0.1620 - accuracy: 0.9457 - val_loss: 0.3117 - val_accuracy: 0.8741\n",
      "Epoch 23/30\n",
      "30/30 [==============================] - 1s 32ms/step - loss: 0.1484 - accuracy: 0.9495 - val_loss: 0.3125 - val_accuracy: 0.8742\n",
      "Epoch 24/30\n",
      "30/30 [==============================] - 1s 31ms/step - loss: 0.1395 - accuracy: 0.9554 - val_loss: 0.3140 - val_accuracy: 0.8753\n",
      "Epoch 25/30\n",
      "30/30 [==============================] - 1s 34ms/step - loss: 0.1282 - accuracy: 0.9598 - val_loss: 0.3177 - val_accuracy: 0.8756\n",
      "Epoch 26/30\n",
      "30/30 [==============================] - 1s 34ms/step - loss: 0.1232 - accuracy: 0.9611 - val_loss: 0.3176 - val_accuracy: 0.8759\n",
      "Epoch 27/30\n",
      "30/30 [==============================] - 1s 32ms/step - loss: 0.1143 - accuracy: 0.9648 - val_loss: 0.3218 - val_accuracy: 0.8771\n",
      "Epoch 28/30\n",
      "30/30 [==============================] - 1s 33ms/step - loss: 0.1074 - accuracy: 0.9694 - val_loss: 0.3239 - val_accuracy: 0.8770\n",
      "Epoch 29/30\n",
      "30/30 [==============================] - 1s 33ms/step - loss: 0.1006 - accuracy: 0.9711 - val_loss: 0.3281 - val_accuracy: 0.8768\n",
      "Epoch 30/30\n",
      "30/30 [==============================] - 1s 32ms/step - loss: 0.0928 - accuracy: 0.9748 - val_loss: 0.3324 - val_accuracy: 0.8766\n"
     ]
    }
   ],
   "source": [
    "history = model.fit(partial_x_train,\n",
    "                    partial_y_train,\n",
    "                    epochs=30,\n",
    "                    batch_size=512,\n",
    "                    validation_data=(x_val, y_val),\n",
    "                    verbose=1)"
   ]
  },
  {
   "cell_type": "markdown",
   "metadata": {},
   "source": [
    "Evaluate the neural network."
   ]
  },
  {
   "cell_type": "code",
   "execution_count": 15,
   "metadata": {},
   "outputs": [
    {
     "name": "stdout",
     "output_type": "stream",
     "text": [
      "782/782 [==============================] - 2s 2ms/step - loss: 0.3502 - accuracy: 0.8622\n",
      "[0.3501783609390259, 0.8622000217437744]\n"
     ]
    }
   ],
   "source": [
    "results = model.evaluate(test_data, test_labels)\n",
    "\n",
    "print(results)"
   ]
  },
  {
   "cell_type": "code",
   "execution_count": 16,
   "metadata": {},
   "outputs": [
    {
     "data": {
      "text/plain": [
       "dict_keys(['loss', 'accuracy', 'val_loss', 'val_accuracy'])"
      ]
     },
     "execution_count": 16,
     "metadata": {},
     "output_type": "execute_result"
    }
   ],
   "source": [
    "history_dict = history.history\n",
    "history_dict.keys()"
   ]
  },
  {
   "cell_type": "code",
   "execution_count": 17,
   "metadata": {},
   "outputs": [
    {
     "data": {
      "image/png": "[encoded data removed]",
      "text/plain": [
       "<Figure size 432x288 with 1 Axes>"
      ]
     },
     "metadata": {
      "needs_background": "light"
     },
     "output_type": "display_data"
    }
   ],
   "source": [
    "%matplotlib inline\n",
    "import matplotlib.pyplot as plt\n",
    "\n",
    "acc = history_dict['accuracy']\n",
    "val_acc = history_dict['val_accuracy']\n",
    "loss = history_dict['loss']\n",
    "val_loss = history_dict['val_loss']\n",
    "\n",
    "epochs = range(1, len(acc) + 1)\n",
    "\n",
    "# \"bo\" is for \"blue dot\"\n",
    "plt.plot(epochs, loss, 'bo', label='Training loss')\n",
    "# b is for \"solid blue line\"\n",
    "plt.plot(epochs, val_loss, 'b', label='Validation loss')\n",
    "plt.title('Training and validation loss')\n",
    "plt.xlabel('Epochs')\n",
    "plt.ylabel('Loss')\n",
    "plt.legend()\n",
    "\n",
    "plt.show()"
   ]
  },
  {
   "cell_type": "code",
   "execution_count": 19,
   "metadata": {},
   "outputs": [
    {
     "data": {
      "image/png": "[encoded data removed]",
      "text/plain": [
       "<Figure size 432x288 with 1 Axes>"
      ]
     },
     "metadata": {
      "needs_background": "light"
     },
     "output_type": "display_data"
    }
   ],
   "source": [
    "plt.clf()   # clear figure\n",
    "\n",
    "plt.plot(epochs, acc, 'bo', label='Training acc')\n",
    "plt.plot(epochs, val_acc, 'b', label='Validation acc')\n",
    "plt.title('Training and validation accuracy')\n",
    "plt.xlabel('Epochs')\n",
    "plt.ylabel('Accuracy')\n",
    "plt.legend()\n",
    "\n",
    "plt.show()"
   ]
  },
  {
   "cell_type": "markdown",
   "metadata": {},
   "source": [
    "Should probably train the model using 10 - 15 epochs"
   ]
  },
  {
   "cell_type": "code",
   "execution_count": null,
   "metadata": {},
   "outputs": [],
   "source": []
  }
 ],
 "metadata": {
  "anaconda-cloud": {},
  "kernelspec": {
   "display_name": "Python 3",
   "language": "python",
   "name": "python3"
  },
  "language_info": {
   "codemirror_mode": {
    "name": "ipython",
    "version": 3
   },
   "file_extension": ".py",
   "mimetype": "text/x-python",
   "name": "python",
   "nbconvert_exporter": "python",
   "pygments_lexer": "ipython3",
   "version": "3.8.5"
  }
 },
 "nbformat": 4,
 "nbformat_minor": 4
}